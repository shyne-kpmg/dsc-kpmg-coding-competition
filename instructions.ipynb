{
 "cells": [
  {
   "cell_type": "markdown",
   "metadata": {},
   "source": [
    "#### Getting Started\n",
    "\n",
    "Once you have run these cells succesfully, comment them out as they don't need to be re-run."
   ]
  },
  {
   "cell_type": "code",
   "execution_count": 1,
   "metadata": {},
   "outputs": [],
   "source": [
    "# Create and activate a virtual environment\n",
    "# 1. run this cell to create a new virtual environment called myvenv (this might take several seconds)\n",
    "# 2. activate this virtual environment\n",
    "#   at the top right of yor notebook,  click on the current kernel (probably named Python x.y.z)\n",
    "#   select Select Another Kernel, select Python Environment, then select myvenv\n",
    "# 3. when you run the next cell, select Install when you are prompted to install the ipynb package\n",
    "import venv\n",
    "venv.main([\"myvenv\"])"
   ]
  },
  {
   "cell_type": "code",
   "execution_count": 2,
   "metadata": {},
   "outputs": [],
   "source": [
    "# Rename all solution files to include your team name\n",
    "# 1. set the team_name variable \n",
    "# 2. run cell\n",
    "import rename_solutions\n",
    "team_name = \"your_team_name\"\n",
    "rename_solutions.main([str(team_name)])"
   ]
  },
  {
   "cell_type": "markdown",
   "metadata": {},
   "source": [
    "#### Testing Solutions\n",
    "\n",
    "You can run your solutions against sample test cases using the code below."
   ]
  },
  {
   "cell_type": "code",
   "execution_count": 1,
   "metadata": {},
   "outputs": [],
   "source": [
    "%load_ext autoreload\n",
    "%autoreload 2"
   ]
  },
  {
   "cell_type": "code",
   "execution_count": 2,
   "metadata": {},
   "outputs": [],
   "source": [
    "import test"
   ]
  },
  {
   "cell_type": "code",
   "execution_count": 3,
   "metadata": {},
   "outputs": [],
   "source": [
    "question_number = 0"
   ]
  },
  {
   "cell_type": "code",
   "execution_count": 4,
   "metadata": {},
   "outputs": [
    {
     "name": "stdout",
     "output_type": "stream",
     "text": [
      "Testing question 0\n",
      "\u001b[32m  Test 1: PASS\u001b[0m\n"
     ]
    }
   ],
   "source": [
    "test.main([str(question_number)])"
   ]
  },
  {
   "cell_type": "code",
   "execution_count": null,
   "metadata": {},
   "outputs": [],
   "source": []
  }
 ],
 "metadata": {
  "kernelspec": {
   "display_name": "Python 3",
   "language": "python",
   "name": "python3"
  },
  "language_info": {
   "codemirror_mode": {
    "name": "ipython",
    "version": 3
   },
   "file_extension": ".py",
   "mimetype": "text/x-python",
   "name": "python",
   "nbconvert_exporter": "python",
   "pygments_lexer": "ipython3",
   "version": "3.9.13"
  },
  "orig_nbformat": 4
 },
 "nbformat": 4,
 "nbformat_minor": 2
}
